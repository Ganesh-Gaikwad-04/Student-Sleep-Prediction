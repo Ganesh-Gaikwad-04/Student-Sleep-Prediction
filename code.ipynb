{
 "cells": [
  {
   "cell_type": "code",
   "execution_count": 5,
   "id": "7cada70d-1388-4308-9f96-c03b02cf5873",
   "metadata": {},
   "outputs": [],
   "source": [
    "import pandas as pd\n",
    "from sklearn.model_selection import train_test_split\n",
    "from sklearn.preprocessing import StandardScaler, LabelEncoder\n",
    "from sklearn.linear_model import LogisticRegression\n",
    "from sklearn.ensemble import RandomForestClassifier\n",
    "from sklearn.svm import SVC\n",
    "from sklearn.metrics import accuracy_score, classification_report\n"
   ]
  },
  {
   "cell_type": "code",
   "execution_count": 8,
   "id": "3bbbf66e-09e1-4d31-885a-d0fe4123196a",
   "metadata": {},
   "outputs": [],
   "source": [
    "data = pd.read_csv('student_sleep_patterns.csv')"
   ]
  },
  {
   "cell_type": "code",
   "execution_count": 4,
   "id": "dd8c4a78-9244-46b3-a4fb-3142d4aeb70d",
   "metadata": {},
   "outputs": [
    {
     "data": {
      "text/plain": [
       "Index(['Student_ID', 'Age', 'Gender', 'University_Year', 'Sleep_Duration',\n",
       "       'Study_Hours', 'Screen_Time', 'Caffeine_Intake', 'Physical_Activity',\n",
       "       'Sleep_Quality', 'Weekday_Sleep_Start', 'Weekend_Sleep_Start',\n",
       "       'Weekday_Sleep_End', 'Weekend_Sleep_End'],\n",
       "      dtype='object')"
      ]
     },
     "execution_count": 4,
     "metadata": {},
     "output_type": "execute_result"
    }
   ],
   "source": []
  },
  {
   "cell_type": "code",
   "execution_count": 9,
   "id": "54644eb2-7aa9-4b45-b52b-f85ad780b7f9",
   "metadata": {},
   "outputs": [],
   "source": [
    "# Preprocessing\n",
    "# Convert categorical columns to numeric, assuming 'Gender' and 'University_Year' are categorical\n",
    "label_encoder = LabelEncoder()\n",
    "data['Gender'] = label_encoder.fit_transform(data['Gender'])\n",
    "data['University_Year'] = label_encoder.fit_transform(data['University_Year'])\n",
    "data['Sleep_Quality'] = label_encoder.fit_transform(data['Sleep_Quality'])\n",
    "\n",
    "# Selecting features and target\n",
    "X = data[['Age', 'Gender', 'University_Year', 'Sleep_Duration', 'Study_Hours', \n",
    "          'Screen_Time', 'Caffeine_Intake', 'Physical_Activity', \n",
    "          'Weekday_Sleep_Start', 'Weekend_Sleep_Start', \n",
    "          'Weekday_Sleep_End', 'Weekend_Sleep_End']]\n",
    "y = data['Sleep_Quality']"
   ]
  },
  {
   "cell_type": "code",
   "execution_count": 10,
   "id": "9832e87a-6aa7-4dba-a630-9cf04008714f",
   "metadata": {},
   "outputs": [],
   "source": [
    "# Splitting data into train and test sets\n",
    "X_train, X_test, y_train, y_test = train_test_split(X, y, test_size=0.2, random_state=42)\n",
    "\n",
    "# Standardizing numerical features\n",
    "scaler = StandardScaler()\n",
    "X_train = scaler.fit_transform(X_train)\n",
    "X_test = scaler.transform(X_test)\n",
    "\n",
    "# Initialize models\n",
    "models = {\n",
    "    \"Logistic Regression\": LogisticRegression(),\n",
    "    \"Random Forest\": RandomForestClassifier(),\n",
    "    \"Support Vector Machine\": SVC()\n",
    "}\n"
   ]
  },
  {
   "cell_type": "code",
   "execution_count": 11,
   "id": "e23e8194-48ed-432f-995a-868d9bc4180d",
   "metadata": {},
   "outputs": [
    {
     "name": "stdout",
     "output_type": "stream",
     "text": [
      "Logistic Regression Accuracy: 6.00%\n",
      "              precision    recall  f1-score   support\n",
      "\n",
      "           0       0.17      0.17      0.17        18\n",
      "           1       0.18      0.22      0.20         9\n",
      "           2       0.00      0.00      0.00        12\n",
      "           3       0.00      0.00      0.00         8\n",
      "           4       0.00      0.00      0.00         8\n",
      "           5       0.00      0.00      0.00         9\n",
      "           6       0.00      0.00      0.00         9\n",
      "           7       0.00      0.00      0.00         8\n",
      "           8       0.00      0.00      0.00         7\n",
      "           9       0.17      0.08      0.11        12\n",
      "\n",
      "    accuracy                           0.06       100\n",
      "   macro avg       0.05      0.05      0.05       100\n",
      "weighted avg       0.07      0.06      0.06       100\n",
      "\n",
      "Random Forest Accuracy: 7.00%\n",
      "              precision    recall  f1-score   support\n",
      "\n",
      "           0       0.13      0.11      0.12        18\n",
      "           1       0.00      0.00      0.00         9\n",
      "           2       0.00      0.00      0.00        12\n",
      "           3       0.10      0.12      0.11         8\n",
      "           4       0.00      0.00      0.00         8\n",
      "           5       0.08      0.11      0.10         9\n",
      "           6       0.22      0.22      0.22         9\n",
      "           7       0.00      0.00      0.00         8\n",
      "           8       0.05      0.14      0.07         7\n",
      "           9       0.00      0.00      0.00        12\n",
      "\n",
      "    accuracy                           0.07       100\n",
      "   macro avg       0.06      0.07      0.06       100\n",
      "weighted avg       0.06      0.07      0.06       100\n",
      "\n",
      "Support Vector Machine Accuracy: 9.00%\n",
      "              precision    recall  f1-score   support\n",
      "\n",
      "           0       0.15      0.22      0.18        18\n",
      "           1       0.00      0.00      0.00         9\n",
      "           2       0.00      0.00      0.00        12\n",
      "           3       0.00      0.00      0.00         8\n",
      "           4       0.00      0.00      0.00         8\n",
      "           5       0.17      0.22      0.19         9\n",
      "           6       0.20      0.11      0.14         9\n",
      "           7       0.00      0.00      0.00         8\n",
      "           8       0.03      0.14      0.05         7\n",
      "           9       0.50      0.08      0.14        12\n",
      "\n",
      "    accuracy                           0.09       100\n",
      "   macro avg       0.11      0.08      0.07       100\n",
      "weighted avg       0.12      0.09      0.08       100\n",
      "\n"
     ]
    }
   ],
   "source": [
    "# Training and evaluating each model\n",
    "for model_name, model in models.items():\n",
    "    model.fit(X_train, y_train)\n",
    "    y_pred = model.predict(X_test)\n",
    "    accuracy = accuracy_score(y_test, y_pred)\n",
    "    print(f\"{model_name} Accuracy: {accuracy * 100:.2f}%\")\n",
    "    print(classification_report(y_test, y_pred))"
   ]
  },
  {
   "cell_type": "code",
   "execution_count": 20,
   "id": "8758a708-9740-4d49-9519-e0bbf23504ea",
   "metadata": {},
   "outputs": [],
   "source": [
    "import pickle\n",
    "\n",
    "# Save the model\n",
    "with open('random_forest_model.pkl', 'wb') as f:\n",
    "    pickle.dump(models['Random Forest'], f)\n",
    "\n",
    "# Save the scaler\n",
    "with open('scaler.pkl', 'wb') as f:\n",
    "    pickle.dump(scaler, f)\n",
    "\n"
   ]
  },
  {
   "cell_type": "code",
   "execution_count": 21,
   "id": "370502b2-c1df-4355-8599-5c1b12964385",
   "metadata": {},
   "outputs": [],
   "source": [
    "import pickle\n",
    "\n",
    "# Load a model (e.g., Random Forest) and the scaler\n",
    "with open('random_forest_model.pkl', 'rb') as f:\n",
    "    random_forest_model = pickle.load(f)\n",
    "\n",
    "with open('scaler.pkl', 'rb') as f:\n",
    "    scaler = pickle.load(f)\n"
   ]
  },
  {
   "cell_type": "code",
   "execution_count": null,
   "id": "928781a6-4a5a-4312-8b8c-7f40e4945afc",
   "metadata": {},
   "outputs": [],
   "source": []
  }
 ],
 "metadata": {
  "kernelspec": {
   "display_name": "Python 3 (ipykernel)",
   "language": "python",
   "name": "python3"
  },
  "language_info": {
   "codemirror_mode": {
    "name": "ipython",
    "version": 3
   },
   "file_extension": ".py",
   "mimetype": "text/x-python",
   "name": "python",
   "nbconvert_exporter": "python",
   "pygments_lexer": "ipython3",
   "version": "3.12.1"
  }
 },
 "nbformat": 4,
 "nbformat_minor": 5
}
